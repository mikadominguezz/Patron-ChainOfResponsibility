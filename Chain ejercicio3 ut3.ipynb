{
 "cells": [
  {
   "cell_type": "code",
   "execution_count": 16,
   "id": "33754947",
   "metadata": {
    "language_info": {
     "name": "polyglot-notebook"
    },
    "polyglot_notebook": {
     "kernelName": "csharp"
    }
   },
   "outputs": [],
   "source": [
    "public enum ServiceType\n",
    "{\n",
    "    SMS,\n",
    "    Email,\n",
    "    Facebook\n",
    "}\n",
    "\n",
    "public abstract class BaseHandler\n",
    "{\n",
    "    private BaseHandler nextHandler;\n",
    "\n",
    "    public BaseHandler(BaseHandler next)\n",
    "    {\n",
    "        this.nextHandler = next;\n",
    "    }\n",
    "\n",
    "    public abstract bool CanHandle(ServiceType serviceType, string message);\n",
    "\n",
    "    public virtual void Handle(ServiceType serviceType, string message)\n",
    "    {\n",
    "        if(!this.CanHandle(serviceType, message))\n",
    "        {\n",
    "            if(this.nextHandler != null)\n",
    "            {\n",
    "                this.nextHandler.Handle(serviceType, message);\n",
    "            }\n",
    "        }\n",
    "    }\n",
    "}"
   ]
  },
  {
   "cell_type": "code",
   "execution_count": 17,
   "id": "a0cdb10d",
   "metadata": {
    "language_info": {
     "name": "polyglot-notebook"
    },
    "polyglot_notebook": {
     "kernelName": "csharp"
    }
   },
   "outputs": [],
   "source": [
    "\n",
    "public class SMSHandler : BaseHandler\n",
    "{\n",
    "    public SMSHandler(BaseHandler next) : base(next) {}\n",
    "\n",
    "    public override bool CanHandle(ServiceType serviceType, string message)\n",
    "    {\n",
    "        if (serviceType == ServiceType.SMS)\n",
    "        {\n",
    "            Console.WriteLine($\"Sending SMS message: {message}\");\n",
    "        }\n",
    "        return false;\n",
    "    }\n",
    "}"
   ]
  },
  {
   "cell_type": "code",
   "execution_count": 18,
   "id": "b2af7b59",
   "metadata": {
    "language_info": {
     "name": "polyglot-notebook"
    },
    "polyglot_notebook": {
     "kernelName": "csharp"
    }
   },
   "outputs": [],
   "source": [
    "public class EmailHandler : BaseHandler\n",
    "{\n",
    "    public EmailHandler(BaseHandler next) : base(next) {}\n",
    "\n",
    "    public override bool CanHandle(ServiceType serviceType, string message)\n",
    "    {\n",
    "        if (serviceType == ServiceType.Email)\n",
    "        {\n",
    "            Console.WriteLine($\"Sending Email: {message}\");\n",
    "        }\n",
    "        return false;\n",
    "    }\n",
    "}"
   ]
  },
  {
   "cell_type": "code",
   "execution_count": 19,
   "id": "09140bb7",
   "metadata": {
    "language_info": {
     "name": "polyglot-notebook"
    },
    "polyglot_notebook": {
     "kernelName": "csharp"
    }
   },
   "outputs": [],
   "source": [
    "public class FacebookHandler : BaseHandler\n",
    "{\n",
    "    public FacebookHandler(BaseHandler next) : base(next) {}\n",
    "\n",
    "    public override bool CanHandle(ServiceType serviceType, string message)\n",
    "    {\n",
    "        if (serviceType == ServiceType.Facebook)\n",
    "        {\n",
    "            Console.WriteLine($\"Sending Facebook message: {message}\");\n",
    "        }\n",
    "        return false;\n",
    "    }\n",
    "}"
   ]
  },
  {
   "cell_type": "code",
   "execution_count": 20,
   "id": "a7b7c53d",
   "metadata": {
    "language_info": {
     "name": "polyglot-notebook"
    },
    "polyglot_notebook": {
     "kernelName": "csharp"
    }
   },
   "outputs": [
    {
     "name": "stdout",
     "output_type": "stream",
     "text": [
      "Sending SMS message: Holaa\n",
      "Sending Email: Holaa\n"
     ]
    }
   ],
   "source": [
    "SMSHandler root = new(new EmailHandler(new FacebookHandler(null)));\n",
    "\n",
    "root.Handle(ServiceType.SMS, \"Holaa\");\n",
    "root.Handle(ServiceType.Email, \"Holaa\");"
   ]
  }
 ],
 "metadata": {
  "kernelspec": {
   "display_name": ".NET (C#)",
   "language": "C#",
   "name": ".net-csharp"
  },
  "language_info": {
   "name": "polyglot-notebook"
  },
  "polyglot_notebook": {
   "kernelInfo": {
    "defaultKernelName": "csharp",
    "items": [
     {
      "aliases": [],
      "name": "csharp"
     }
    ]
   }
  }
 },
 "nbformat": 4,
 "nbformat_minor": 5
}
